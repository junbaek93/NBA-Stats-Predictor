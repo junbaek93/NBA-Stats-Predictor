{
 "cells": [
  {
   "cell_type": "markdown",
   "id": "1a25ec0df42c3b",
   "metadata": {
    "collapsed": false,
    "jupyter": {
     "outputs_hidden": false
    }
   },
   "source": [
    "## Modules"
   ]
  },
  {
   "cell_type": "code",
   "execution_count": 9,
   "id": "17e5df98-64c9-4d67-93c5-fcca6c7739f4",
   "metadata": {
    "ExecuteTime": {
     "end_time": "2024-07-03T04:12:28.509773300Z",
     "start_time": "2024-07-03T04:12:28.495625600Z"
    }
   },
   "outputs": [],
   "source": [
    "import pandas as pd\n",
    "import numpy as np\n",
    "import seaborn as sns\n",
    "import matplotlib.pyplot as plt\n",
    "import sklearn"
   ]
  },
  {
   "cell_type": "markdown",
   "id": "6e9f5d6d119033b3",
   "metadata": {
    "collapsed": false,
    "jupyter": {
     "outputs_hidden": false
    }
   },
   "source": [
    "# Store player data from 2014-2024 into dataframes"
   ]
  },
  {
   "cell_type": "code",
   "execution_count": 10,
   "id": "5d173a3e-03ca-4d45-ac7b-c3099e2cf014",
   "metadata": {
    "ExecuteTime": {
     "end_time": "2024-07-03T04:12:30.471948800Z",
     "start_time": "2024-07-03T04:12:30.440944700Z"
    }
   },
   "outputs": [],
   "source": [
    "# Loop through years (2014-2024) and collect data points\n",
    "df_list = []\n",
    "for year in range(2014, 2025):\n",
    "    filename = f'csv/{year}_NBA.csv'\n",
    "    df = pd.read_csv(filename)\n",
    "    df.insert(loc=0, column='Year', value=year)\n",
    "    df_list.append(df)\n",
    "\n",
    "all_years_df = pd.concat(df_list, ignore_index=True)"
   ]
  },
  {
   "cell_type": "markdown",
   "id": "a00123cac046064",
   "metadata": {
    "collapsed": false,
    "jupyter": {
     "outputs_hidden": false
    }
   },
   "source": [
    "# Filter and extract information"
   ]
  },
  {
   "cell_type": "code",
   "execution_count": 11,
   "id": "cd3b2da41bf1320d",
   "metadata": {
    "ExecuteTime": {
     "end_time": "2024-07-03T04:12:30.737488Z",
     "start_time": "2024-07-03T04:12:30.731706400Z"
    },
    "collapsed": false,
    "jupyter": {
     "outputs_hidden": false
    }
   },
   "outputs": [],
   "source": [
    "def filterPlayer(name):\n",
    "    return all_years_df[all_years_df['Player'] == name]\n",
    "\n",
    "def getPlayersNames(NBA_df):\n",
    "    return NBA_df['Player'].unique()\n",
    "\n",
    "def extractData(player_df):\n",
    "    extracted_data = []\n",
    "    for index, row in player_df.iterrows():\n",
    "        year = row['Year']\n",
    "        games = row['G']\n",
    "        minutes = row['MP']\n",
    "        field_goal_percentage = row['FG%']\n",
    "        three_point_percentage = row['3P%']\n",
    "        two_point_percentage = row['2P%']\n",
    "        efficiency_percentage = row['eFG%']\n",
    "        free_throw_percentage = row['FT%']\n",
    "        tot_reb = row['TRB']\n",
    "        assist = row['AST']\n",
    "        blocks = row['BLK']\n",
    "        turnovers = row['TOV']\n",
    "        points = row['PTS']\n",
    "        \n",
    "        extracted_data.append({\n",
    "            'Year' : year,\n",
    "            'Games' : games,\n",
    "            'Minutes' : minutes,\n",
    "            'FG%' : field_goal_percentage,\n",
    "            '3P%' : three_point_percentage,\n",
    "            '2P%' : two_point_percentage,\n",
    "            'eFG%' : efficiency_percentage,\n",
    "            'FT%' : free_throw_percentage,\n",
    "            'TRB' : tot_reb,\n",
    "            'AST' : assist,\n",
    "            'BLK' : blocks,\n",
    "            'TOV' : turnovers,\n",
    "            'PTS' : points\n",
    "        })\n",
    "        \n",
    "    return extracted_data\n"
   ]
  },
  {
   "cell_type": "markdown",
   "id": "bbceb8718887e449",
   "metadata": {
    "collapsed": false,
    "jupyter": {
     "outputs_hidden": false
    }
   },
   "source": [
    "# Predictions"
   ]
  },
  {
   "cell_type": "code",
   "execution_count": 12,
   "id": "575d6f55a0103d92",
   "metadata": {
    "ExecuteTime": {
     "end_time": "2024-07-03T04:18:11.473833400Z",
     "start_time": "2024-07-03T04:18:11.470427300Z"
    },
    "collapsed": false,
    "jupyter": {
     "outputs_hidden": false
    }
   },
   "outputs": [],
   "source": [
    "from sklearn.linear_model import LinearRegression\n",
    "\n",
    "def predictStats(player_extracted_data):\n",
    "    player_df = pd.DataFrame(player_extracted_data)\n",
    "    \n",
    "    # predict points, assist, and rebounds within year 2025\n",
    "    predicted_years = pd.DataFrame({'Year':[2025]})\n",
    "    predicted_stats = {}\n",
    "\n",
    "    # Independent variables    \n",
    "    x_years = player_df[['Year']].values\n",
    "\n",
    "    # Dependent variables\n",
    "    y_pts = player_df[['PTS']]\n",
    "    y_ast = player_df[['AST']]\n",
    "    y_reb = player_df[['TRB']]\n",
    "    \n",
    "    model_pts = LinearRegression()\n",
    "    model_ast = LinearRegression()\n",
    "    model_reb = LinearRegression()\n",
    "    \n",
    "    model_pts.fit(x_years,y_pts)\n",
    "    model_ast.fit(x_years,y_ast)\n",
    "    model_reb.fit(x_years,y_reb)\n",
    "    \n",
    "    # Predict and store into dict\n",
    "    for year in predicted_years['Year']:\n",
    "        predicted_stats[year] = {\n",
    "            'PTS' : model_pts.predict([[year]])[0],\n",
    "            'AST' : model_ast.predict([[year]])[0],\n",
    "            'TRB' : model_reb.predict([[year]])[0]\n",
    "        }\n",
    "\n",
    "    # Calculate R-Square testing\n",
    "    print(\"R-Squared pts: \", model_pts.score(x_years, y_pts))\n",
    "    print(\"R-Squared ast: \", model_ast.score(x_years, y_ast))\n",
    "    print(\"R-Squared reb: \", model_reb.score(x_years, y_reb))\n",
    "    \n",
    "    return predicted_stats\n",
    "    "
   ]
  },
  {
   "cell_type": "markdown",
   "id": "c8632c3a4ef0bc49",
   "metadata": {
    "collapsed": false,
    "jupyter": {
     "outputs_hidden": false
    }
   },
   "source": [
    "# Tkinter application"
   ]
  },
  {
   "cell_type": "code",
   "execution_count": 17,
   "id": "f391342654f71987",
   "metadata": {
    "ExecuteTime": {
     "end_time": "2024-07-03T04:18:18.209973600Z",
     "start_time": "2024-07-03T04:18:11.486861800Z"
    },
    "collapsed": false,
    "jupyter": {
     "outputs_hidden": false
    }
   },
   "outputs": [
    {
     "data": {
      "image/png": "[encoded data removed]",
      "text/plain": [
       "<Figure size 1560x775 with 3 Axes>"
      ]
     },
     "metadata": {},
     "output_type": "display_data"
    }
   ],
   "source": [
    "from matplotlib.backends.backend_tkagg import FigureCanvasTkAgg\n",
    "from tkinter import *\n",
    "\n",
    "playersNamesList = getPlayersNames(df)\n",
    "\n",
    "def playerSelect(event):\n",
    "    selected_player = playerList_tree.get(playerList_tree.curselection())\n",
    "    player_data = filterPlayer(selected_player)\n",
    "    player_extracted_data = extractData(player_data)\n",
    "    player_projected_stats = predictStats(player_extracted_data)\n",
    "    updatePlayerInfo(player_data, player_projected_stats)\n",
    "\n",
    "    \n",
    "def updatePlayerBox(playersNamesList):\n",
    "    # clear the players list\n",
    "    playerList_tree.delete(0,END)\n",
    "    \n",
    "    # add players to player list\n",
    "    for player in playersNamesList:\n",
    "        playerList_tree.insert(END, player)\n",
    "    \n",
    "def updatePlayerInfo(player_data, player_projected_stats):\n",
    "    # Update player info when selected\n",
    "    player_data_2024 = player_data[player_data['Year'] == 2024]\n",
    "    player_info_name_label.config(text=\"Player Name: \" + player_data['Player'].values[0])\n",
    "    player_info_age_label.config(text=\"Player Age: \" + str(player_data_2024['Age'].values[0]))\n",
    "    player_info_tm_label.config(text=\"Team: \" + str(player_data_2024['Tm'].values[0] ))\n",
    "\n",
    "    year = list(player_projected_stats.keys())[0]\n",
    "    stats = player_projected_stats[year]\n",
    "    pts = stats['PTS'][0]\n",
    "    ast = stats['AST'][0]\n",
    "    trb = stats['TRB'][0]\n",
    "\n",
    "    player_predict_pts_value.config(text=f\"{pts:.2f}\")\n",
    "    player_predict_ast_value.config(text=f\"{ast:.2f}\")\n",
    "    player_predict_rb_value.config(text=f\"{trb:.2f}\")\n",
    "\n",
    "    updatePlot(player_data, player_projected_stats)\n",
    "\n",
    "def updatePlot(player_data, player_projected_stats):\n",
    "    \n",
    "    # Calculate average points per game for each year from starting year or 2014\n",
    "    if player_data['Year'].values[0] == 2014:\n",
    "        year_start = 2014\n",
    "    else:\n",
    "        year_start = player_data['Year'].values[0]\n",
    "\n",
    "    years_range = list(range(year_start, 2025))\n",
    "    player_career = pd.DataFrame({\n",
    "        'Year': years_range,\n",
    "        'Average Points Per Game': [player_data.loc[player_data['Year'] == year, 'PTS'].values[0] if year in player_data['Year'].values else 0 for year in years_range]\n",
    "    })\n",
    "    \n",
    "\n",
    "    \n",
    "    # Linear regression model\n",
    "    X = player_data[['Year']]\n",
    "    y = player_data[['PTS']]\n",
    "    model = LinearRegression()\n",
    "    model.fit(X,y)\n",
    "    \n",
    "    predicted_years = pd.DataFrame({'Year': [2025,2026]})\n",
    "    predicted_points = model.predict(predicted_years) \n",
    "\n",
    "    \n",
    "    for ax in axes:\n",
    "        ax.clear()\n",
    "    \n",
    "    # Plot regression line model\n",
    "    sns.regplot(x='Year', y='Average Points Per Game', data=player_career, ax=axes[0])\n",
    "    axes[0].set_title('Regression Line: Year vs PTS')\n",
    "    axes[0].plot(X, model.predict(X), color='red', linestyle='-', linewidth=2, label='Regression Line')\n",
    "    axes[0].scatter(predicted_years, predicted_points, color='green', marker='*', s=100, label='Predicted Points')\n",
    "    axes[0].legend()\n",
    "    \n",
    "    \n",
    "    # retrieve players data for correlation matrix\n",
    "    player_cor_data = pd.DataFrame(player_data, columns=['G', 'MP', 'FG%', \n",
    "                                                     '3P%', '2P%', 'eFG%', \n",
    "                                                     'FT%', 'TRB', 'AST', \n",
    "                                                     'BLK', 'TOV', 'PTS'])\n",
    "\n",
    "    # plot correlation matrix\n",
    "    matrix = player_cor_data.corr()\n",
    "    \n",
    "    # Create heatmap using Matplotlib\n",
    "    heatmap = axes[1].imshow(matrix, cmap='Blues')\n",
    "    \n",
    "    # Show values in each cell\n",
    "    for i in range(len(matrix)):\n",
    "        for j in range(len(matrix)):\n",
    "            axes[1].text(j, i, f'{matrix.iloc[i, j]:.2f}', ha='center', va='center', color='black')\n",
    "    \n",
    "    # Set x and y labels\n",
    "    variables = list(matrix.columns)\n",
    "    axes[1].set_xticks(range(len(matrix)))\n",
    "    axes[1].set_xticklabels(variables, rotation=45, ha='right')\n",
    "    axes[1].set_yticks(range(len(matrix)))\n",
    "    axes[1].set_yticklabels(variables)\n",
    "    axes[1].invert_yaxis()\n",
    "    axes[1].set_title('Correlation Matrix')\n",
    "    \n",
    "    # plot histogram\n",
    "    axes[2].bar(player_career['Year'], player_career['Average Points Per Game'], color='purple')\n",
    "    axes[2].set_xlabel('Year')\n",
    "    axes[2].set_ylabel('Average Points Per Game')\n",
    "    axes[2].set_title('Average Points Per Game by Year')\n",
    "    axes[2].set_xticks(player_career['Year'])\n",
    "    axes[2].tick_params(axis='x', rotation=45)\n",
    "    axes[2].grid(axis='y', linestyle='--', alpha=0.7)\n",
    "    \n",
    "    canvas.draw()\n",
    "    \n",
    "\n",
    "def fillout(event):\n",
    "    # Clear entry box\n",
    "    search_entry.delete(0, END)\n",
    "    \n",
    "    # Add list item to entry box\n",
    "    search_entry.insert(0, playersNamesList.get(ANCHOR))\n",
    "    \n",
    "def checkList(event):\n",
    "    # retrieve user typed entry\n",
    "    typed = search_entry.get()\n",
    "    \n",
    "    if typed == '':\n",
    "        name = playersNamesList\n",
    "    else:\n",
    "        name = []\n",
    "        for players in playersNamesList:\n",
    "            if typed.lower() in players.lower():\n",
    "                name.append(players)\n",
    "                \n",
    "    #update listbox with selected players\n",
    "    updatePlayerBox(name)\n",
    "    \n",
    "root = Tk()\n",
    "root.title(\"NBA Stat Predictor\")\n",
    "root.geometry(\"1600x1200\")\n",
    "\n",
    "player = StringVar(root)\n",
    "player.set(playersNamesList[0])\n",
    "\n",
    "topFrame = Frame(root, width=1200, height=300, padx=10, pady=10)\n",
    "topFrame.pack(side='top', fill='x')\n",
    "\n",
    "bottomFrame = Frame(root, width=1200, height=700, padx=10, pady=10)\n",
    "bottomFrame.pack(side='bottom', fill='both', expand=True)\n",
    "\n",
    "playerListFrame = Frame(topFrame, width=100, height=300, padx=10, pady=10)\n",
    "playerListFrame.pack(side='left', fill='y')\n",
    "\n",
    "playerInfoFrame = Frame(topFrame, width=450, height=300, padx=10, pady=10)\n",
    "playerInfoFrame.pack(side='left', fill='y')\n",
    "\n",
    "playerPredictionFrame = Frame(topFrame, width=250, height=300, padx=10, pady=10)\n",
    "playerPredictionFrame.pack(side='left', fill='y')\n",
    "\n",
    "plotsFrame = Frame(bottomFrame, width=1200, height=700, padx=10, pady=10)\n",
    "plotsFrame.pack(side='bottom', fill='both', expand=True)\n",
    "\n",
    "# playerListFrame init\n",
    "playerList_tree = Listbox(playerListFrame, width=50)\n",
    "search_label = Label(playerListFrame, text=\"Search player name\", fg=\"grey\")\n",
    "search_entry = Entry(playerListFrame)\n",
    "reference_label = Label(playerListFrame, text=\"Data sourced from basketball-reference.com\", fg=\"black\")\n",
    "\n",
    "#playerInfoFrame init\n",
    "player_info_name_label = Label(playerInfoFrame, text=\"Player Name: \", fg=\"black\")\n",
    "player_info_name_value = Label(playerInfoFrame, text=\"\", fg=\"black\")\n",
    "player_info_age_label = Label(playerInfoFrame, text=\"Age: \", fg=\"black\")\n",
    "player_info_age_value = Label(playerInfoFrame, text=\"\", fg=\"black\")\n",
    "player_info_tm_label = Label(playerInfoFrame, text=\"Team: \", fg=\"black\")\n",
    "player_info_tm_value = Label(playerInfoFrame, text=\"\", fg=\"black\")\n",
    "\n",
    "# playerPredictionFrame init\n",
    "player_predict_pts_label = Label(playerPredictionFrame, text=\"Projected Points: \", fg=\"green\")\n",
    "player_predict_pts_value = Label(playerPredictionFrame, text=\"\", fg=\"black\")\n",
    "player_predict_ast_label = Label(playerPredictionFrame, text=\"Projected Assists: \", fg=\"purple\")\n",
    "player_predict_ast_value = Label(playerPredictionFrame, text=\" \", fg=\"black\")\n",
    "player_predict_rb_label = Label(playerPredictionFrame, text=\"Projected Rebounds: \", fg=\"blue\")\n",
    "player_predict_rb_value = Label(playerPredictionFrame, text=\"\", fg=\"black\")\n",
    "\n",
    "# playerVisualFrame init\n",
    "fig, axes = plt.subplots(1, 3, figsize=(6,9))\n",
    "canvas = FigureCanvasTkAgg(fig, master=plotsFrame)\n",
    "canvas.draw()\n",
    "\n",
    "# playerListFrame search bar\n",
    "search_label.pack(pady=5)\n",
    "\n",
    "# playerListFrame Search entry\n",
    "search_entry.pack(pady=5)\n",
    "\n",
    "# playerListFrame player list tree\n",
    "playerList_tree.pack(pady=20)\n",
    "updatePlayerBox(playersNamesList)\n",
    "reference_label.pack(pady=30)\n",
    "\n",
    "# playerListFrame Binding on the listbox event (onclick)\n",
    "playerList_tree.bind(\"<<ListboxSelect>>\", playerSelect)\n",
    "\n",
    "# playerListFrame Binding on the entry box\n",
    "search_entry.bind(\"<KeyRelease>\", checkList)\n",
    "\n",
    "# playerInfoFrame player labels and values\n",
    "player_info_name_label.grid(row=0, column=0, sticky=W, padx=5, pady=5)\n",
    "player_info_name_value.grid(row=0, column=1, sticky=W, padx=5, pady=5)\n",
    "player_info_age_label.grid(row=1, column=0, sticky=W, padx=5, pady=5)\n",
    "player_info_age_value.grid(row=1, column=1, sticky=W, padx=5, pady=5)\n",
    "player_info_tm_label.grid(row=2, column=0, sticky=W, padx=5, pady=5)\n",
    "player_info_tm_value.grid(row=2, column=1, sticky=W, padx=5, pady=5)\n",
    "\n",
    "# playerPredictionFrame player labels and values\n",
    "player_predict_pts_label.grid(row=0, column=0, sticky=W, padx=5, pady=5)\n",
    "player_predict_pts_value.grid(row=0, column=1, sticky=W, padx=5, pady=5)\n",
    "player_predict_ast_label.grid(row=1, column=0, sticky=W, padx=5, pady=5)\n",
    "player_predict_ast_value.grid(row=1, column=1, sticky=W, padx=5, pady=5)\n",
    "player_predict_rb_label.grid(row=2, column=0, sticky=W, padx=5, pady=5)\n",
    "player_predict_rb_value.grid(row=2, column=1, sticky=W, padx=5, pady=5)\n",
    "\n",
    "# Add plot to the GUI\n",
    "canvas.get_tk_widget().pack(side=TOP, fill=BOTH, expand=True)\n",
    "\n",
    "\n",
    "root.mainloop()\n"
   ]
  },
  {
   "cell_type": "code",
   "execution_count": null,
   "id": "cc0ce2ab18d0e09b",
   "metadata": {
    "ExecuteTime": {
     "end_time": "2024-07-03T04:12:35.896489Z",
     "start_time": "2024-07-03T04:12:35.894977600Z"
    },
    "collapsed": false,
    "jupyter": {
     "outputs_hidden": false
    }
   },
   "outputs": [],
   "source": []
  },
  {
   "cell_type": "code",
   "execution_count": null,
   "id": "bc686e03cbfd3278",
   "metadata": {
    "ExecuteTime": {
     "end_time": "2024-07-03T03:29:45.933806100Z",
     "start_time": "2024-07-03T03:29:45.925521500Z"
    },
    "collapsed": false,
    "jupyter": {
     "outputs_hidden": false
    }
   },
   "outputs": [],
   "source": []
  },
  {
   "cell_type": "code",
   "execution_count": null,
   "id": "7973867a3b991593",
   "metadata": {
    "collapsed": false,
    "jupyter": {
     "outputs_hidden": false
    }
   },
   "outputs": [],
   "source": []
  }
 ],
 "metadata": {
  "kernelspec": {
   "display_name": "Python 3 (ipykernel)",
   "language": "python",
   "name": "python3"
  },
  "language_info": {
   "codemirror_mode": {
    "name": "ipython",
    "version": 3
   },
   "file_extension": ".py",
   "mimetype": "text/x-python",
   "name": "python",
   "nbconvert_exporter": "python",
   "pygments_lexer": "ipython3",
   "version": "3.12.4"
  }
 },
 "nbformat": 4,
 "nbformat_minor": 5
}
